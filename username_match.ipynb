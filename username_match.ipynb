{
 "cells": [
  {
   "cell_type": "code",
   "execution_count": 39,
   "id": "d5485b21-4924-4363-83d7-0a8fa6ce8887",
   "metadata": {},
   "outputs": [],
   "source": [
    "#import numpy as np\n",
    "import csv\n",
    "import pandas as pd\n",
    "from rapidfuzz import fuzz, process"
   ]
  },
  {
   "cell_type": "code",
   "execution_count": 40,
   "id": "90b112a5-1947-4d7d-8ddd-ee12afab42f5",
   "metadata": {},
   "outputs": [],
   "source": [
    "# File paths\n",
    "path = 'D:/Users/Padovanc/OneDrive - Quaker Houghton/JDEProjects/JDECloudMigration/SSO/GitHub/' #add here your path\n",
    "emails_file = path+'email.csv'\n",
    "usernames_file = path+'username.csv'\n",
    "output_file = path+'matched_output.csv'"
   ]
  },
  {
   "cell_type": "code",
   "execution_count": 41,
   "id": "9fa1073d-a85f-439f-892a-5c98afe1b133",
   "metadata": {},
   "outputs": [],
   "source": [
    "# Read emails\n",
    "emails = pd.read_csv(emails_file, encoding='ISO-8859-1')\n",
    "users = pd.read_csv(usernames_file)\n",
    "\n",
    "emails['Surname'] = emails['Surname'].str.lower()\n",
    "emails['Name'] = emails['Name'].str.lower()\n",
    "emails['Full Name'] = emails['Full Name'].str.lower()\n",
    "emails[\"Alpha Name\"] = emails[\"Name\"]+\" \"+emails[\"Surname\"]  \n",
    "\n",
    "users['Alpha Name'] = users['Alpha Name'].str.lower()\n",
    "#users['Surname'] = users['Surname'].str.lower()"
   ]
  },
  {
   "cell_type": "code",
   "execution_count": 42,
   "id": "a8075244-9690-44da-ba94-3a75cd02e2b4",
   "metadata": {
    "scrolled": true
   },
   "outputs": [],
   "source": [
    "#test section\n",
    "#print(emails.head(10))\n",
    "#print (users.shape[0])\n",
    "#print(users.head(10))\n",
    "#print(emails.iloc[0]['Surname'])\n",
    "#print(users.iloc[0:10]['User ID'])"
   ]
  },
  {
   "cell_type": "code",
   "execution_count": 43,
   "id": "bbb9a121-afeb-46ad-81f7-b21cdfaf2754",
   "metadata": {
    "scrolled": true
   },
   "outputs": [],
   "source": [
    "matches = []\n",
    "for i in range(0,users.shape[0]):\n",
    "    #user = str(users.iloc[i]['Name'])+' '+str(users.iloc[i]['Surname'])\n",
    "    #match, score, index = process.extractOne(user, emails.iloc[:]['Full Name'], scorer=fuzz.ratio)\n",
    "    \n",
    "    #match windows surname, name with erp alpha name\n",
    "    user = str(users.iloc[i]['Alpha Name'])\n",
    "    match, score, index = process.extractOne(user, emails.iloc[:]['Alpha Name'], scorer=fuzz.ratio)\n",
    "\n",
    "    matches.append({'erp_username': users.iloc[i]['User ID'], 'erp_alpha_name':users.iloc[i]['Alpha Name'], 'matched_email_surname':emails.iloc[index]['Surname'], 'matched_email_name':emails.iloc[index]['Name'], 'matched_email': emails.iloc[index]['Email Address'], 'country': emails.iloc[index]['Country'], 'score_email': score})\n",
    "    #if score < 90:\n",
    "        #print (users.iloc[i]['User ID'], user, match, score, emails.iloc[index]['Email Address'])\n"
   ]
  },
  {
   "cell_type": "code",
   "execution_count": 44,
   "id": "68dcfa54-39e0-4c7d-985d-99bd755a90cd",
   "metadata": {},
   "outputs": [
    {
     "name": "stdout",
     "output_type": "stream",
     "text": [
      "✅ Matching complete! Results saved to 'D:/Users/Padovanc/OneDrive - Quaker Houghton/JDEProjects/JDECloudMigration/SSO/GitHub/matched_output.csv'\n"
     ]
    }
   ],
   "source": [
    "# Save results\n",
    "with open(output_file, mode='w', newline='', encoding='utf-8') as f:\n",
    "    fieldnames = ['erp_username',  'erp_alpha_name', 'matched_email_surname', 'matched_email_name', 'matched_email', 'country', 'score_email']\n",
    "    writer = csv.DictWriter(f, fieldnames=fieldnames)\n",
    "    writer.writeheader()\n",
    "    writer.writerows(matches)\n",
    "\n",
    "print(f\"✅ Matching complete! Results saved to '{output_file}'\")"
   ]
  }
 ],
 "metadata": {
  "kernelspec": {
   "display_name": "Python 3 (ipykernel)",
   "language": "python",
   "name": "python3"
  },
  "language_info": {
   "codemirror_mode": {
    "name": "ipython",
    "version": 3
   },
   "file_extension": ".py",
   "mimetype": "text/x-python",
   "name": "python",
   "nbconvert_exporter": "python",
   "pygments_lexer": "ipython3",
   "version": "3.13.3"
  }
 },
 "nbformat": 4,
 "nbformat_minor": 5
}
