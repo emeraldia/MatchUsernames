{
 "cells": [
  {
   "cell_type": "code",
   "execution_count": 16,
   "id": "d5485b21-4924-4363-83d7-0a8fa6ce8887",
   "metadata": {},
   "outputs": [],
   "source": [
    "#import numpy as np\n",
    "import csv\n",
    "import pandas as pd\n",
    "from rapidfuzz import fuzz, process"
   ]
  },
  {
   "cell_type": "code",
   "execution_count": 17,
   "id": "90b112a5-1947-4d7d-8ddd-ee12afab42f5",
   "metadata": {},
   "outputs": [],
   "source": [
    "# File paths\n",
    "path = 'yourpath' #add here your path\n",
    "emails_file = path+'email.csv'\n",
    "usernames_file = path+'username.csv'\n",
    "##proxy_addresses_file = path+'proxyaddresses.csv'\n",
    "output_file = path+'matched_output.csv'"
   ]
  },
  {
   "cell_type": "code",
   "execution_count": 22,
   "id": "9fa1073d-a85f-439f-892a-5c98afe1b133",
   "metadata": {},
   "outputs": [],
   "source": [
    "# Read emails\n",
    "emails = pd.read_csv(emails_file, encoding='ISO-8859-1')\n",
    "users = pd.read_csv(usernames_file)\n",
    "##proxy_addresses = pd.read_csv(proxy_addresses_file, encoding='ISO-8859-1')\n",
    "\n",
    "emails['Surname'] = emails['Surname'].str.lower()\n",
    "emails['Name'] = emails['Name'].str.lower()\n",
    "emails['Full Name'] = emails['Full Name'].str.lower()\n",
    "emails[\"Alpha Name\"] = emails[\"Name\"]+ \" \"+emails[\"Surname\"]  \n",
    "\n",
    "users['Alpha Name'] = users['Alpha Name'].str.lower()\n",
    "#users['Surname'] = users['Surname'].str.lower()\n",
    "\n",
    "##proxy_addresses['Name'] = proxy_addresses['Name'].str.lower()"
   ]
  },
  {
   "cell_type": "code",
   "execution_count": 23,
   "id": "a8075244-9690-44da-ba94-3a75cd02e2b4",
   "metadata": {
    "scrolled": true
   },
   "outputs": [
    {
     "name": "stdout",
     "output_type": "stream",
     "text": [
      "      Surname        Name           Full Name                  Email Address  \\\n",
      "0  mcilwraith     teodoor  teodoor mcilwraith        tmcilwraith0@ebay.co.uk   \n",
      "1      eccles  concettina   concettina eccles       ceccles1@arstechnica.com   \n",
      "2    labadini      jerome     jerome labadini          jlabadini2@reddit.com   \n",
      "3    macentee      lesley     lesley macentee         lmacentee3@yahoo.co.jp   \n",
      "4     kindall      skyler      skyler kindall  skindall4@merriam-webster.com   \n",
      "5        ruck    johnette       johnette ruck                jruck5@fema.gov   \n",
      "6     jullian      renate      renate jullian       rjullian6@wikispaces.com   \n",
      "7   strewther       paola     paola strewther      pstrewther7@posterous.com   \n",
      "8   kolodziej       hanna     hanna kolodziej   hkolodziej8@domainmarket.com   \n",
      "9        fone      berget         berget fone        bfone9@sciencedaily.com   \n",
      "\n",
      "     Country          Alpha Name  \n",
      "0     Russia  teodoor mcilwraith  \n",
      "1      Yemen   concettina eccles  \n",
      "2     France     jerome labadini  \n",
      "3      China     lesley macentee  \n",
      "4      China      skyler kindall  \n",
      "5      China       johnette ruck  \n",
      "6  Argentina      renate jullian  \n",
      "7      Spain     paola strewther  \n",
      "8     Poland     hanna kolodziej  \n",
      "9  Indonesia         berget fone  \n"
     ]
    },
    {
     "ename": "NameError",
     "evalue": "name 'proxy_addresses' is not defined",
     "output_type": "error",
     "traceback": [
      "\u001b[31m---------------------------------------------------------------------------\u001b[39m",
      "\u001b[31mNameError\u001b[39m                                 Traceback (most recent call last)",
      "\u001b[36mCell\u001b[39m\u001b[36m \u001b[39m\u001b[32mIn[23]\u001b[39m\u001b[32m, line 7\u001b[39m\n\u001b[32m      2\u001b[39m \u001b[38;5;28mprint\u001b[39m(emails.head(\u001b[32m10\u001b[39m))\n\u001b[32m      3\u001b[39m \u001b[38;5;66;03m#print (users.shape[0])\u001b[39;00m\n\u001b[32m      4\u001b[39m \u001b[38;5;66;03m#print(users.head(10))\u001b[39;00m\n\u001b[32m      5\u001b[39m \u001b[38;5;66;03m#print(emails.iloc[0]['Surname'])\u001b[39;00m\n\u001b[32m      6\u001b[39m \u001b[38;5;66;03m#print(users.iloc[0:10]['User ID'])\u001b[39;00m\n\u001b[32m----> \u001b[39m\u001b[32m7\u001b[39m \u001b[38;5;28mprint\u001b[39m(\u001b[43mproxy_addresses\u001b[49m.head(\u001b[32m10\u001b[39m))\n",
      "\u001b[31mNameError\u001b[39m: name 'proxy_addresses' is not defined"
     ]
    }
   ],
   "source": [
    "#test section\n",
    "print(emails.head(10))\n",
    "#print (users.shape[0])\n",
    "#print(users.head(10))\n",
    "#print(emails.iloc[0]['Surname'])\n",
    "#print(users.iloc[0:10]['User ID'])\n",
    "print(proxy_addresses.head(10))"
   ]
  },
  {
   "cell_type": "code",
   "execution_count": 24,
   "id": "bbb9a121-afeb-46ad-81f7-b21cdfaf2754",
   "metadata": {
    "scrolled": true
   },
   "outputs": [],
   "source": [
    "matches = []\n",
    "for i in range(0,users.shape[0]):\n",
    "    #user = str(users.iloc[i]['Name'])+' '+str(users.iloc[i]['Surname'])\n",
    "    #match, score, index = process.extractOne(user, emails.iloc[:]['Full Name'], scorer=fuzz.ratio)\n",
    "    \n",
    "    #match windows surname, name with erp alpha name\n",
    "    user = str(users.iloc[i]['Alpha Name'])\n",
    "    match, score, index = process.extractOne(user, emails.iloc[:]['Alpha Name'], scorer=fuzz.ratio)\n",
    "    ##match2, score2, index2 = process.extractOne(emails.iloc[index]['Full Name'], proxy_addresses.iloc[:]['Name'], scorer=fuzz.ratio)\n",
    "\n",
    "    matches.append({'erp_username': users.iloc[i]['User ID'], 'erp_alpha_name':users.iloc[i]['Alpha Name'], 'matched_email_surname':emails.iloc[index]['Surname'], 'matched_email_name':emails.iloc[index]['Name'], 'matched_email': emails.iloc[index]['Email Address'], 'country': emails.iloc[index]['Country'], 'score_email': score})\n",
    "    #if score < 90:\n",
    "        #print (users.iloc[i]['User ID'], user, match, score, emails.iloc[index]['Email Address'])\n"
   ]
  },
  {
   "cell_type": "code",
   "execution_count": 26,
   "id": "68dcfa54-39e0-4c7d-985d-99bd755a90cd",
   "metadata": {},
   "outputs": [
    {
     "name": "stdout",
     "output_type": "stream",
     "text": [
      "✅ Matching complete! Results saved to 'D:/Users/Padovanc/OneDrive - Quaker Houghton/JDEProjects/JDECloudMigration/SSO/GitHub/matched_output.csv'\n"
     ]
    }
   ],
   "source": [
    "# Save results\n",
    "with open(output_file, mode='w', newline='', encoding='utf-8') as f:\n",
    "    fieldnames = ['erp_username',  'erp_alpha_name', 'matched_email_surname', 'matched_email_name', 'matched_email', 'country', 'score_email']\n",
    "    writer = csv.DictWriter(f, fieldnames=fieldnames)\n",
    "    writer.writeheader()\n",
    "    writer.writerows(matches)\n",
    "\n",
    "print(f\"✅ Matching complete! Results saved to '{output_file}'\")"
   ]
  },
  {
   "cell_type": "code",
   "execution_count": null,
   "id": "d153f778-fb97-494e-b37d-bc5339e35432",
   "metadata": {},
   "outputs": [],
   "source": []
  }
 ],
 "metadata": {
  "kernelspec": {
   "display_name": "Python 3 (ipykernel)",
   "language": "python",
   "name": "python3"
  },
  "language_info": {
   "codemirror_mode": {
    "name": "ipython",
    "version": 3
   },
   "file_extension": ".py",
   "mimetype": "text/x-python",
   "name": "python",
   "nbconvert_exporter": "python",
   "pygments_lexer": "ipython3",
   "version": "3.13.3"
  }
 },
 "nbformat": 4,
 "nbformat_minor": 5
}
